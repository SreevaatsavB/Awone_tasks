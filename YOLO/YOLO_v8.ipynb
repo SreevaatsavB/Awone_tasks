{
 "cells": [
  {
   "cell_type": "code",
   "execution_count": null,
   "metadata": {},
   "outputs": [],
   "source": []
  },
  {
   "cell_type": "markdown",
   "metadata": {},
   "source": [
    "### Spatial Pyramind Pooling layer     \n",
    "\n",
    "    class SPP(nn.Module):\n",
    "        # Spatial Pyramid Pooling (SPP) layer https://arxiv.org/abs/1406.4729\n",
    "        def __init__(self, c1, c2, k=(5, 9, 13)):\n",
    "            super().__init__()\n",
    "            c_ = c1 // 2  # hidden channels\n",
    "            self.cv1 = Conv(c1, c_, 1, 1)\n",
    "            self.cv2 = Conv(c_ * (len(k) + 1), c2, 1, 1)\n",
    "            self.m = nn.ModuleList([nn.MaxPool2d(kernel_size=x, stride=1, padding=x // 2) for x in k])\n",
    "\n",
    "        def forward(self, x):\n",
    "            x = self.cv1(x)\n",
    "            with warnings.catch_warnings():\n",
    "                warnings.simplefilter('ignore')  # suppress torch 1.9.0 max_pool2d() warning\n",
    "                return self.cv2(torch.cat([x] + [m(x) for m in self.m], 1))"
   ]
  },
  {
   "cell_type": "markdown",
   "metadata": {},
   "source": [
    "### Spatial Pyramind Pooling FAST layer \n",
    "\n",
    "    \n",
    "    class SPPF(nn.Module):\n",
    "        # Spatial Pyramid Pooling - Fast (SPPF) layer for YOLOv5 by Glenn Jocher\n",
    "        def __init__(self, c1, c2, k=5):  # equivalent to SPP(k=(5, 9, 13))\n",
    "            super().__init__()\n",
    "            c_ = c1 // 2  # hidden channels\n",
    "            self.cv1 = Conv(c1, c_, 1, 1)\n",
    "            self.cv2 = Conv(c_ * 4, c2, 1, 1)\n",
    "            self.m = nn.MaxPool2d(kernel_size=k, stride=1, padding=k // 2)\n",
    "\n",
    "        def forward(self, x):\n",
    "            x = self.cv1(x)\n",
    "            with warnings.catch_warnings():\n",
    "                warnings.simplefilter('ignore')  # suppress torch 1.9.0 max_pool2d() warning\n",
    "                y1 = self.m(x)\n",
    "                y2 = self.m(y1)\n",
    "                return self.cv2(torch.cat((x, y1, y2, self.m(y2)), 1))"
   ]
  },
  {
   "cell_type": "markdown",
   "metadata": {},
   "source": []
  },
  {
   "cell_type": "markdown",
   "metadata": {},
   "source": []
  },
  {
   "cell_type": "markdown",
   "metadata": {},
   "source": []
  },
  {
   "cell_type": "markdown",
   "metadata": {},
   "source": []
  }
 ],
 "metadata": {
  "language_info": {
   "name": "python"
  }
 },
 "nbformat": 4,
 "nbformat_minor": 2
}

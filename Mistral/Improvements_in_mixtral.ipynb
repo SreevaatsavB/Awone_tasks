{
 "cells": [
  {
   "cell_type": "markdown",
   "metadata": {},
   "source": [
    "### Additions in Mistral model compared ot the original transformer:- \n",
    "\n",
    "1. Rotary Positional Embeddings (introduced in llama)\n",
    "2. SwiGLU activation function (introduced in llama)\n",
    "3. RMS Norm (introduced in llama)\n",
    "4. Grouped Query attention (introduced in llama)\n",
    "\n",
    "5. **Sliding window attention (New)**\n",
    "\n",
    "6. KV Caching :- \n",
    "    - **Rolling buffer cache**\n",
    "    - **Prefilling and chunking**"
   ]
  },
  {
   "cell_type": "markdown",
   "metadata": {},
   "source": [
    "### Specific to Mixtral 8x7B\n",
    "\n",
    "#### Mixture of experts \n",
    "\n",
    "- The feedforward networks are modified to get the mixtrue of experts output.\n",
    "- Each token is (token here is the embedding vector after self_attn + normalization) fed into a gate.\n",
    "- This gate decides which 2 experts to use out of all 8 experts\n",
    "- Then, the outputs are obtained from the selected experts and final output is the weighted sum of the induvidual output.\n",
    "- These final outputs are then reshaped into (bsz, seq_len, embed_dim)\n",
    "\n",
    "Here an expert is a feedforward layer (the one from llama2)\n",
    "\n",
    "In this way each embedding vector i.e each token is passed through 2 different feedforward networks and combined to get the final output out of the decoder block."
   ]
  },
  {
   "cell_type": "code",
   "execution_count": 1,
   "metadata": {},
   "outputs": [
    {
     "name": "stdout",
     "output_type": "stream",
     "text": [
      "tensor([[[1, 0, 0],\n",
      "         [0, 0, 1]],\n",
      "\n",
      "        [[0, 1, 0],\n",
      "         [0, 0, 0]],\n",
      "\n",
      "        [[0, 0, 1],\n",
      "         [1, 0, 0]],\n",
      "\n",
      "        [[0, 0, 0],\n",
      "         [0, 1, 0]]])\n"
     ]
    }
   ],
   "source": [
    "import torch\n",
    "\n",
    "selected_experts = torch.tensor([[0, 2], [1, 3], [2, 0]])  # Assuming 3 tokens with top 2 experts selected for each\n",
    "num_experts = 4\n",
    "\n",
    "# Creating one-hot encoded expert mask\n",
    "expert_mask = torch.nn.functional.one_hot(selected_experts, num_classes=num_experts).permute(2, 1, 0)\n",
    "\n",
    "print(expert_mask)"
   ]
  },
  {
   "cell_type": "code",
   "execution_count": 3,
   "metadata": {},
   "outputs": [
    {
     "data": {
      "text/plain": [
       "(tensor([[[1, 0, 0, 0],\n",
       "          [0, 0, 1, 0]],\n",
       " \n",
       "         [[0, 1, 0, 0],\n",
       "          [0, 0, 0, 1]],\n",
       " \n",
       "         [[0, 0, 1, 0],\n",
       "          [1, 0, 0, 0]]]),\n",
       " torch.Size([3, 2, 4]))"
      ]
     },
     "execution_count": 3,
     "metadata": {},
     "output_type": "execute_result"
    }
   ],
   "source": [
    "torch.nn.functional.one_hot(selected_experts, num_classes=num_experts), torch.nn.functional.one_hot(selected_experts, num_classes=num_experts).shape \n"
   ]
  },
  {
   "cell_type": "code",
   "execution_count": null,
   "metadata": {},
   "outputs": [],
   "source": []
  },
  {
   "cell_type": "code",
   "execution_count": null,
   "metadata": {},
   "outputs": [],
   "source": []
  },
  {
   "cell_type": "code",
   "execution_count": null,
   "metadata": {},
   "outputs": [],
   "source": []
  }
 ],
 "metadata": {
  "kernelspec": {
   "display_name": "Python (myenv)",
   "language": "python",
   "name": "my_project_env"
  },
  "language_info": {
   "codemirror_mode": {
    "name": "ipython",
    "version": 3
   },
   "file_extension": ".py",
   "mimetype": "text/x-python",
   "name": "python",
   "nbconvert_exporter": "python",
   "pygments_lexer": "ipython3",
   "version": "3.10.9"
  }
 },
 "nbformat": 4,
 "nbformat_minor": 2
}

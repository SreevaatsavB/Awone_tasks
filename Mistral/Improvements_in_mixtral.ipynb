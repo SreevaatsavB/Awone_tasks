{
 "cells": [
  {
   "cell_type": "markdown",
   "metadata": {},
   "source": [
    "### Additions in Mistral model compared ot the original transformer:- \n",
    "\n",
    "1. Rotary Positional Embeddings\n",
    "2. SwiGLU activation function\n",
    "3. RMS Norm\n",
    "5. Grouped Query attention \n",
    "6. **Sliding window attention**\n",
    "\n",
    "6. KV Caching :- \n",
    "    - **Rolling buffere cache**\n",
    "    - **Prefilling and chunking**"
   ]
  },
  {
   "cell_type": "markdown",
   "metadata": {},
   "source": [
    "#### Specific to Mixtral 8x7B, the feedforward networks are modified to get the mixtrue of experts output"
   ]
  },
  {
   "cell_type": "code",
   "execution_count": null,
   "metadata": {
    "vscode": {
     "languageId": "plaintext"
    }
   },
   "outputs": [],
   "source": []
  },
  {
   "cell_type": "code",
   "execution_count": null,
   "metadata": {
    "vscode": {
     "languageId": "plaintext"
    }
   },
   "outputs": [],
   "source": []
  },
  {
   "cell_type": "code",
   "execution_count": null,
   "metadata": {
    "vscode": {
     "languageId": "plaintext"
    }
   },
   "outputs": [],
   "source": []
  },
  {
   "cell_type": "code",
   "execution_count": null,
   "metadata": {
    "vscode": {
     "languageId": "plaintext"
    }
   },
   "outputs": [],
   "source": []
  }
 ],
 "metadata": {
  "language_info": {
   "name": "python"
  }
 },
 "nbformat": 4,
 "nbformat_minor": 2
}
